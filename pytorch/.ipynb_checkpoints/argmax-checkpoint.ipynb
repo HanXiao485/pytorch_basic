{
 "cells": [
  {
   "cell_type": "code",
   "execution_count": 1,
   "id": "2020bf36-f904-4a48-bdfc-f64a203838b6",
   "metadata": {},
   "outputs": [],
   "source": [
    "import torch"
   ]
  },
  {
   "cell_type": "code",
   "execution_count": 8,
   "id": "6120267e-0071-440b-b2c9-47b4d476611b",
   "metadata": {},
   "outputs": [],
   "source": [
    "a = torch.randn(4,4)"
   ]
  },
  {
   "cell_type": "code",
   "execution_count": 9,
   "id": "39a67828-3e6b-4b50-ba4a-b7a9e0256afc",
   "metadata": {},
   "outputs": [
    {
     "data": {
      "text/plain": [
       "tensor([[-1.1613,  0.9921,  0.5915, -2.2956],\n",
       "        [ 0.9954, -0.2636, -0.3304,  1.9250],\n",
       "        [ 1.0521,  1.1162, -0.9489, -0.0422],\n",
       "        [ 1.8879, -0.2443,  1.4439, -0.5768]])"
      ]
     },
     "execution_count": 9,
     "metadata": {},
     "output_type": "execute_result"
    }
   ],
   "source": [
    "a"
   ]
  },
  {
   "cell_type": "code",
   "execution_count": 15,
   "id": "bdc652d9-8e34-4ae0-8384-3793ac72c029",
   "metadata": {},
   "outputs": [
    {
     "name": "stdout",
     "output_type": "stream",
     "text": [
      "tensor(7)\n"
     ]
    }
   ],
   "source": [
    "print(torch.argmax(a))"
   ]
  },
  {
   "cell_type": "code",
   "execution_count": null,
   "id": "ac959049-a938-4ec2-89b6-019da736e33e",
   "metadata": {},
   "outputs": [],
   "source": []
  }
 ],
 "metadata": {
  "kernelspec": {
   "display_name": "Python 3 (ipykernel)",
   "language": "python",
   "name": "python3"
  },
  "language_info": {
   "codemirror_mode": {
    "name": "ipython",
    "version": 3
   },
   "file_extension": ".py",
   "mimetype": "text/x-python",
   "name": "python",
   "nbconvert_exporter": "python",
   "pygments_lexer": "ipython3",
   "version": "3.11.8"
  }
 },
 "nbformat": 4,
 "nbformat_minor": 5
}
