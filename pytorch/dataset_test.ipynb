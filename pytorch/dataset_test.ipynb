{
 "cells": [
  {
   "cell_type": "code",
   "execution_count": 1,
   "id": "5f71f2a9-3357-4e79-9254-4a1c649b79f8",
   "metadata": {},
   "outputs": [],
   "source": [
    "import torch\n",
    "from torch.utils import data\n",
    "import numpy"
   ]
  },
  {
   "cell_type": "code",
   "execution_count": 13,
   "id": "0e6ba43a-f742-4ff9-8296-e87c039c55da",
   "metadata": {},
   "outputs": [],
   "source": [
    "x = torch.tensor(range(1,51))"
   ]
  },
  {
   "cell_type": "code",
   "execution_count": 14,
   "id": "552030d6-f03b-4e79-be04-bd715d3bd346",
   "metadata": {},
   "outputs": [
    {
     "data": {
      "text/plain": [
       "tensor([ 1,  2,  3,  4,  5,  6,  7,  8,  9, 10, 11, 12, 13, 14, 15, 16, 17, 18,\n",
       "        19, 20, 21, 22, 23, 24, 25, 26, 27, 28, 29, 30, 31, 32, 33, 34, 35, 36,\n",
       "        37, 38, 39, 40, 41, 42, 43, 44, 45, 46, 47, 48, 49, 50])"
      ]
     },
     "execution_count": 14,
     "metadata": {},
     "output_type": "execute_result"
    }
   ],
   "source": [
    "x"
   ]
  },
  {
   "cell_type": "code",
   "execution_count": 16,
   "id": "abcb7c52-ddc6-4608-914f-b39d9f184db3",
   "metadata": {},
   "outputs": [],
   "source": [
    "y = torch.normal(mean=torch.arange(1., 51.), std=torch.arange(1, 0, -0.02))"
   ]
  },
  {
   "cell_type": "code",
   "execution_count": 17,
   "id": "0761b8ce-22e4-4c84-afa2-a4c03341713e",
   "metadata": {},
   "outputs": [
    {
     "data": {
      "text/plain": [
       "tensor([[ 0.8342],\n",
       "        [ 1.8010],\n",
       "        [ 2.7628],\n",
       "        [ 2.3609],\n",
       "        [ 4.4612],\n",
       "        [ 6.5179],\n",
       "        [ 5.8828],\n",
       "        [ 8.1877],\n",
       "        [10.4607],\n",
       "        [ 9.0983],\n",
       "        [10.8335],\n",
       "        [10.2430],\n",
       "        [13.7366],\n",
       "        [13.0059],\n",
       "        [15.1466],\n",
       "        [15.9450],\n",
       "        [17.1402],\n",
       "        [17.9228],\n",
       "        [18.2525],\n",
       "        [19.8906],\n",
       "        [20.0821],\n",
       "        [22.8677],\n",
       "        [22.4945],\n",
       "        [24.4458],\n",
       "        [25.5376],\n",
       "        [25.1024],\n",
       "        [27.3246],\n",
       "        [27.8676],\n",
       "        [28.6217],\n",
       "        [30.0895],\n",
       "        [30.9877],\n",
       "        [32.2737],\n",
       "        [33.2966],\n",
       "        [34.2918],\n",
       "        [34.9822],\n",
       "        [36.3678],\n",
       "        [37.1080],\n",
       "        [37.8488],\n",
       "        [39.1045],\n",
       "        [39.7011],\n",
       "        [41.4390],\n",
       "        [41.8650],\n",
       "        [43.0137],\n",
       "        [43.8970],\n",
       "        [44.8647],\n",
       "        [45.8754],\n",
       "        [46.9765],\n",
       "        [48.0550],\n",
       "        [48.9922],\n",
       "        [50.0006]])"
      ]
     },
     "execution_count": 17,
     "metadata": {},
     "output_type": "execute_result"
    }
   ],
   "source": [
    "y.reshape(-1,1)"
   ]
  },
  {
   "cell_type": "code",
   "execution_count": 18,
   "id": "5b03feec-78d7-4739-a053-85b565f515de",
   "metadata": {},
   "outputs": [
    {
     "data": {
      "text/plain": [
       "tensor([[ 1],\n",
       "        [ 2],\n",
       "        [ 3],\n",
       "        [ 4],\n",
       "        [ 5],\n",
       "        [ 6],\n",
       "        [ 7],\n",
       "        [ 8],\n",
       "        [ 9],\n",
       "        [10],\n",
       "        [11],\n",
       "        [12],\n",
       "        [13],\n",
       "        [14],\n",
       "        [15],\n",
       "        [16],\n",
       "        [17],\n",
       "        [18],\n",
       "        [19],\n",
       "        [20],\n",
       "        [21],\n",
       "        [22],\n",
       "        [23],\n",
       "        [24],\n",
       "        [25],\n",
       "        [26],\n",
       "        [27],\n",
       "        [28],\n",
       "        [29],\n",
       "        [30],\n",
       "        [31],\n",
       "        [32],\n",
       "        [33],\n",
       "        [34],\n",
       "        [35],\n",
       "        [36],\n",
       "        [37],\n",
       "        [38],\n",
       "        [39],\n",
       "        [40],\n",
       "        [41],\n",
       "        [42],\n",
       "        [43],\n",
       "        [44],\n",
       "        [45],\n",
       "        [46],\n",
       "        [47],\n",
       "        [48],\n",
       "        [49],\n",
       "        [50]])"
      ]
     },
     "execution_count": 18,
     "metadata": {},
     "output_type": "execute_result"
    }
   ],
   "source": [
    "x.reshape(-1,1)"
   ]
  },
  {
   "cell_type": "code",
   "execution_count": 19,
   "id": "38383b2e-2b95-4ea4-98a6-d23d56838029",
   "metadata": {},
   "outputs": [
    {
     "data": {
      "text/plain": [
       "<torch.utils.data.dataset.TensorDataset at 0x27d54210b90>"
      ]
     },
     "execution_count": 19,
     "metadata": {},
     "output_type": "execute_result"
    }
   ],
   "source": [
    "torch.utils.data.TensorDataset(x,y)"
   ]
  },
  {
   "cell_type": "code",
   "execution_count": 20,
   "id": "d060201d-9fda-4f90-a003-0222fbd8bf5a",
   "metadata": {},
   "outputs": [],
   "source": [
    "dataset = torch.utils.data.TensorDataset(x,y)"
   ]
  },
  {
   "cell_type": "code",
   "execution_count": 22,
   "id": "28904908-aadb-4137-b6bb-a33552e209b1",
   "metadata": {},
   "outputs": [],
   "source": [
    "z=torch.utils.data.DataLoader(dataset,10,shuffle=True)"
   ]
  },
  {
   "cell_type": "code",
   "execution_count": 24,
   "id": "2641dde4-65f0-4f8d-9275-cc6fe6ac8f2a",
   "metadata": {},
   "outputs": [
    {
     "data": {
      "text/plain": [
       "[tensor([39, 45, 35, 42, 20, 31, 50, 40, 32,  3]),\n",
       " tensor([39.1045, 44.8647, 34.9822, 41.8650, 19.8906, 30.9877, 50.0006, 39.7011,\n",
       "         32.2737,  2.7628])]"
      ]
     },
     "execution_count": 24,
     "metadata": {},
     "output_type": "execute_result"
    }
   ],
   "source": [
    "next(iter(z))"
   ]
  },
  {
   "cell_type": "code",
   "execution_count": null,
   "id": "9b91dabe-2127-4bfa-b126-4786c213238f",
   "metadata": {},
   "outputs": [],
   "source": []
  }
 ],
 "metadata": {
  "kernelspec": {
   "display_name": "Python 3 (ipykernel)",
   "language": "python",
   "name": "python3"
  },
  "language_info": {
   "codemirror_mode": {
    "name": "ipython",
    "version": 3
   },
   "file_extension": ".py",
   "mimetype": "text/x-python",
   "name": "python",
   "nbconvert_exporter": "python",
   "pygments_lexer": "ipython3",
   "version": "3.11.8"
  }
 },
 "nbformat": 4,
 "nbformat_minor": 5
}
