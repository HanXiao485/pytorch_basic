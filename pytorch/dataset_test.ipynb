{
 "cells": [
  {
   "cell_type": "code",
   "execution_count": 1,
   "id": "5f71f2a9-3357-4e79-9254-4a1c649b79f8",
   "metadata": {},
   "outputs": [],
   "source": [
    "import torch\n",
    "from torch.utils import data\n",
    "import numpy"
   ]
  },
  {
   "cell_type": "code",
   "execution_count": 13,
   "id": "0e6ba43a-f742-4ff9-8296-e87c039c55da",
   "metadata": {},
   "outputs": [],
   "source": [
    "x = torch.tensor(range(1,51))"
   ]
  },
  {
   "cell_type": "code",
   "execution_count": 14,
   "id": "552030d6-f03b-4e79-be04-bd715d3bd346",
   "metadata": {},
   "outputs": [
    {
     "data": {
      "text/plain": [
       "tensor([ 1,  2,  3,  4,  5,  6,  7,  8,  9, 10, 11, 12, 13, 14, 15, 16, 17, 18,\n",
       "        19, 20, 21, 22, 23, 24, 25, 26, 27, 28, 29, 30, 31, 32, 33, 34, 35, 36,\n",
       "        37, 38, 39, 40, 41, 42, 43, 44, 45, 46, 47, 48, 49, 50])"
      ]
     },
     "execution_count": 14,
     "metadata": {},
     "output_type": "execute_result"
    }
   ],
   "source": [
    "x"
   ]
  },
  {
   "cell_type": "code",
   "execution_count": 16,
   "id": "abcb7c52-ddc6-4608-914f-b39d9f184db3",
   "metadata": {},
   "outputs": [],
   "source": [
    "y = torch.normal(mean=torch.arange(1., 51.), std=torch.arange(1, 0, -0.02))"
   ]
  },
  {
   "cell_type": "code",
   "execution_count": 17,
   "id": "0761b8ce-22e4-4c84-afa2-a4c03341713e",
   "metadata": {},
   "outputs": [
    {
     "data": {
      "text/plain": [
       "tensor([[ 0.8342],\n",
       "        [ 1.8010],\n",
       "        [ 2.7628],\n",
       "        [ 2.3609],\n",
       "        [ 4.4612],\n",
       "        [ 6.5179],\n",
       "        [ 5.8828],\n",
       "        [ 8.1877],\n",
       "        [10.4607],\n",
       "        [ 9.0983],\n",
       "        [10.8335],\n",
       "        [10.2430],\n",
       "        [13.7366],\n",
       "        [13.0059],\n",
       "        [15.1466],\n",
       "        [15.9450],\n",
       "        [17.1402],\n",
       "        [17.9228],\n",
       "        [18.2525],\n",
       "        [19.8906],\n",
       "        [20.0821],\n",
       "        [22.8677],\n",
       "        [22.4945],\n",
       "        [24.4458],\n",
       "        [25.5376],\n",
       "        [25.1024],\n",
       "        [27.3246],\n",
       "        [27.8676],\n",
       "        [28.6217],\n",
       "        [30.0895],\n",
       "        [30.9877],\n",
       "        [32.2737],\n",
       "        [33.2966],\n",
       "        [34.2918],\n",
       "        [34.9822],\n",
       "        [36.3678],\n",
       "        [37.1080],\n",
       "        [37.8488],\n",
       "        [39.1045],\n",
       "        [39.7011],\n",
       "        [41.4390],\n",
       "        [41.8650],\n",
       "        [43.0137],\n",
       "        [43.8970],\n",
       "        [44.8647],\n",
       "        [45.8754],\n",
       "        [46.9765],\n",
       "        [48.0550],\n",
       "        [48.9922],\n",
       "        [50.0006]])"
      ]
     },
     "execution_count": 17,
     "metadata": {},
     "output_type": "execute_result"
    }
   ],
   "source": [
    "y.reshape(-1,1)"
   ]
  },
  {
   "cell_type": "code",
   "execution_count": 18,
   "id": "5b03feec-78d7-4739-a053-85b565f515de",
   "metadata": {},
   "outputs": [
    {
     "data": {
      "text/plain": [
       "tensor([[ 1],\n",
       "        [ 2],\n",
       "        [ 3],\n",
       "        [ 4],\n",
       "        [ 5],\n",
       "        [ 6],\n",
       "        [ 7],\n",
       "        [ 8],\n",
       "        [ 9],\n",
       "        [10],\n",
       "        [11],\n",
       "        [12],\n",
       "        [13],\n",
       "        [14],\n",
       "        [15],\n",
       "        [16],\n",
       "        [17],\n",
       "        [18],\n",
       "        [19],\n",
       "        [20],\n",
       "        [21],\n",
       "        [22],\n",
       "        [23],\n",
       "        [24],\n",
       "        [25],\n",
       "        [26],\n",
       "        [27],\n",
       "        [28],\n",
       "        [29],\n",
       "        [30],\n",
       "        [31],\n",
       "        [32],\n",
       "        [33],\n",
       "        [34],\n",
       "        [35],\n",
       "        [36],\n",
       "        [37],\n",
       "        [38],\n",
       "        [39],\n",
       "        [40],\n",
       "        [41],\n",
       "        [42],\n",
       "        [43],\n",
       "        [44],\n",
       "        [45],\n",
       "        [46],\n",
       "        [47],\n",
       "        [48],\n",
       "        [49],\n",
       "        [50]])"
      ]
     },
     "execution_count": 18,
     "metadata": {},
     "output_type": "execute_result"
    }
   ],
   "source": [
    "x.reshape(-1,1)"
   ]
  },
  {
   "cell_type": "code",
   "execution_count": 19,
   "id": "38383b2e-2b95-4ea4-98a6-d23d56838029",
   "metadata": {},
   "outputs": [
    {
     "data": {
      "text/plain": [
       "<torch.utils.data.dataset.TensorDataset at 0x27d54210b90>"
      ]
     },
     "execution_count": 19,
     "metadata": {},
     "output_type": "execute_result"
    }
   ],
   "source": [
    "torch.utils.data.TensorDataset(x,y)"
   ]
  },
  {
   "cell_type": "code",
   "execution_count": 20,
   "id": "d060201d-9fda-4f90-a003-0222fbd8bf5a",
   "metadata": {},
   "outputs": [],
   "source": [
    "dataset = torch.utils.data.TensorDataset(x,y)"
   ]
  },
  {
   "cell_type": "code",
   "execution_count": 22,
   "id": "28904908-aadb-4137-b6bb-a33552e209b1",
   "metadata": {},
   "outputs": [],
   "source": [
    "z=torch.utils.data.DataLoader(dataset,10,shuffle=True)"
   ]
  },
  {
   "cell_type": "code",
   "execution_count": 24,
   "id": "2641dde4-65f0-4f8d-9275-cc6fe6ac8f2a",
   "metadata": {},
   "outputs": [
    {
     "data": {
      "text/plain": [
       "[tensor([39, 45, 35, 42, 20, 31, 50, 40, 32,  3]),\n",
       " tensor([39.1045, 44.8647, 34.9822, 41.8650, 19.8906, 30.9877, 50.0006, 39.7011,\n",
       "         32.2737,  2.7628])]"
      ]
     },
     "execution_count": 24,
     "metadata": {},
     "output_type": "execute_result"
    }
   ],
   "source": [
    "next(iter(z))"
   ]
  },
  {
   "cell_type": "code",
   "execution_count": null,
   "id": "9b91dabe-2127-4bfa-b126-4786c213238f",
   "metadata": {},
   "outputs": [],
   "source": []
  },
  {
   "cell_type": "markdown",
   "id": "f0b8d14d-65bb-4d18-b9a5-5581db7a4340",
   "metadata": {},
   "source": [
    "## 20240416"
   ]
  },
  {
   "cell_type": "code",
   "execution_count": 1,
   "id": "d496c125-c7b4-40c1-aeb6-ee63a1b68e49",
   "metadata": {},
   "outputs": [
    {
     "name": "stdout",
     "output_type": "stream",
     "text": [
      "tensor([5, 1])\n",
      "tensor([4, 2])\n",
      "tensor([3])\n"
     ]
    }
   ],
   "source": [
    "from torch.utils.data import DataLoader, Dataset\n",
    "\n",
    "# 自定义 Dataset 类\n",
    "class MyDataset(Dataset):\n",
    "    def __init__(self, data):\n",
    "        self.data = data\n",
    "\n",
    "    def __len__(self):\n",
    "        return len(self.data)\n",
    "\n",
    "    def __getitem__(self, index):\n",
    "        return self.data[index]\n",
    "\n",
    "# 创建数据集实例\n",
    "data = [1, 2, 3, 4, 5]\n",
    "dataset = MyDataset(data)\n",
    "\n",
    "# 创建 DataLoader 实例\n",
    "dataloader = DataLoader(dataset, batch_size=2, shuffle=True)\n",
    "\n",
    "# 使用 DataLoader 迭代数据\n",
    "for batch in dataloader:\n",
    "    print(batch)"
   ]
  },
  {
   "cell_type": "code",
   "execution_count": null,
   "id": "55706fb5-47e6-40eb-9f2f-bab7680752c2",
   "metadata": {},
   "outputs": [],
   "source": []
  },
  {
   "cell_type": "code",
   "execution_count": 2,
   "id": "05f26e7d-9b28-4d77-a84e-b48345f13e51",
   "metadata": {},
   "outputs": [
    {
     "name": "stdout",
     "output_type": "stream",
     "text": [
      "处理原始异常\n"
     ]
    },
    {
     "ename": "TypeError",
     "evalue": "新异常",
     "output_type": "error",
     "traceback": [
      "\u001b[1;31m---------------------------------------------------------------------------\u001b[0m",
      "\u001b[1;31mValueError\u001b[0m                                Traceback (most recent call last)",
      "Cell \u001b[1;32mIn[2], line 2\u001b[0m\n\u001b[0;32m      1\u001b[0m \u001b[38;5;28;01mtry\u001b[39;00m:\n\u001b[1;32m----> 2\u001b[0m     \u001b[38;5;28;01mraise\u001b[39;00m \u001b[38;5;167;01mValueError\u001b[39;00m(\u001b[38;5;124m\"\u001b[39m\u001b[38;5;124m原始异常\u001b[39m\u001b[38;5;124m\"\u001b[39m)\n\u001b[0;32m      3\u001b[0m \u001b[38;5;28;01mexcept\u001b[39;00m \u001b[38;5;167;01mValueError\u001b[39;00m \u001b[38;5;28;01mas\u001b[39;00m e:\n",
      "\u001b[1;31mValueError\u001b[0m: 原始异常",
      "\nThe above exception was the direct cause of the following exception:\n",
      "\u001b[1;31mTypeError\u001b[0m                                 Traceback (most recent call last)",
      "Cell \u001b[1;32mIn[2], line 5\u001b[0m\n\u001b[0;32m      3\u001b[0m \u001b[38;5;28;01mexcept\u001b[39;00m \u001b[38;5;167;01mValueError\u001b[39;00m \u001b[38;5;28;01mas\u001b[39;00m e:\n\u001b[0;32m      4\u001b[0m     \u001b[38;5;28mprint\u001b[39m(\u001b[38;5;124m\"\u001b[39m\u001b[38;5;124m处理原始异常\u001b[39m\u001b[38;5;124m\"\u001b[39m)\n\u001b[1;32m----> 5\u001b[0m     \u001b[38;5;28;01mraise\u001b[39;00m \u001b[38;5;167;01mTypeError\u001b[39;00m(\u001b[38;5;124m\"\u001b[39m\u001b[38;5;124m新异常\u001b[39m\u001b[38;5;124m\"\u001b[39m) \u001b[38;5;28;01mfrom\u001b[39;00m \u001b[38;5;21;01me\u001b[39;00m\n",
      "\u001b[1;31mTypeError\u001b[0m: 新异常"
     ]
    }
   ],
   "source": [
    "try:\n",
    "    raise ValueError(\"原始异常\")\n",
    "except ValueError as e:\n",
    "    print(\"处理原始异常\")\n",
    "    raise TypeError(\"新异常\") from e"
   ]
  },
  {
   "cell_type": "code",
   "execution_count": 3,
   "id": "4b7cf35d-6888-4795-8a22-84c7940abe03",
   "metadata": {},
   "outputs": [
    {
     "name": "stdout",
     "output_type": "stream",
     "text": [
      "Model State Dict:\n",
      "OrderedDict([('weight', tensor([[0.2824]])), ('bias', tensor([0.2067]))])\n",
      "\n",
      "Optimizer State Dict:\n",
      "{'state': {}, 'param_groups': [{'lr': 0.01, 'momentum': 0, 'dampening': 0, 'weight_decay': 0, 'nesterov': False, 'maximize': False, 'foreach': None, 'differentiable': False, 'params': [0, 1]}]}\n"
     ]
    }
   ],
   "source": [
    "import torch\n",
    "import torch.nn as nn\n",
    "import torch.optim as optim\n",
    "\n",
    "# 创建一个简单的神经网络模型和优化器\n",
    "model = nn.Linear(1, 1)\n",
    "optimizer = optim.SGD(model.parameters(), lr=0.01)\n",
    "\n",
    "# 获取模型和优化器的状态字典\n",
    "model_state_dict = model.state_dict()\n",
    "optimizer_state_dict = optimizer.state_dict()\n",
    "\n",
    "print(\"Model State Dict:\")\n",
    "print(model_state_dict)\n",
    "\n",
    "print(\"\\nOptimizer State Dict:\")\n",
    "print(optimizer_state_dict)"
   ]
  },
  {
   "cell_type": "code",
   "execution_count": null,
   "id": "98323245-7dfa-41d7-8fe7-075f2afaec36",
   "metadata": {},
   "outputs": [],
   "source": []
  },
  {
   "cell_type": "code",
   "execution_count": 4,
   "id": "b3378647-2fc8-4d15-a332-7282eccbf547",
   "metadata": {},
   "outputs": [
    {
     "name": "stdout",
     "output_type": "stream",
     "text": [
      "Original DataFrame:\n",
      "   A  B  C\n",
      "0  1  4  7\n",
      "1  2  5  8\n",
      "2  3  6  9\n",
      "\n",
      "DataFrame after dropping column:\n",
      "   B\n",
      "0  4\n",
      "1  5\n",
      "2  6\n",
      "\n",
      "DataFrame after dropping row:\n",
      "   A  B  C\n",
      "1  2  5  8\n"
     ]
    }
   ],
   "source": [
    "import pandas as pd\n",
    "\n",
    "# 创建一个 DataFrame\n",
    "data = {'A': [1, 2, 3], 'B': [4, 5, 6], 'C': [7,  8, 9]}\n",
    "df = pd.DataFrame(data)\n",
    "\n",
    "# 删除列\n",
    "df_drop_col = df.drop(columns=['A', 'C'])\n",
    "\n",
    "# 删除行\n",
    "df_drop_row = df.drop(index=[0, 2])\n",
    "\n",
    "print(\"Original DataFrame:\")\n",
    "print(df)\n",
    "\n",
    "print(\"\\nDataFrame after dropping column:\")\n",
    "print(df_drop_col)\n",
    "\n",
    "print(\"\\nDataFrame after dropping row:\")\n",
    "print(df_drop_row)"
   ]
  },
  {
   "cell_type": "code",
   "execution_count": null,
   "id": "3ef9dc2f-9903-4e61-9888-1537fc471669",
   "metadata": {},
   "outputs": [],
   "source": []
  },
  {
   "cell_type": "markdown",
   "id": "3af1e5b0-7139-4bf5-9a00-cfd517cb99eb",
   "metadata": {},
   "source": [
    "## iterator"
   ]
  },
  {
   "cell_type": "code",
   "execution_count": 5,
   "id": "af440224-32ef-43fe-8e73-6b761bddf03c",
   "metadata": {},
   "outputs": [
    {
     "name": "stdout",
     "output_type": "stream",
     "text": [
      "1\n",
      "2\n",
      "3\n",
      "4\n",
      "5\n"
     ]
    }
   ],
   "source": [
    "class MyIterator:\n",
    "    def __init__(self, max_num):\n",
    "        self.max_num = max_num\n",
    "        self.current_num = 0\n",
    "\n",
    "    def __iter__(self):\n",
    "        return self\n",
    "\n",
    "    def __next__(self):\n",
    "        if self.current_num < self.max_num:\n",
    "            self.current_num += 1\n",
    "            return self.current_num\n",
    "        else:\n",
    "            raise StopIteration\n",
    "\n",
    "# 使用迭代器对象\n",
    "my_iter = MyIterator(5)\n",
    "for num in my_iter:\n",
    "    print(num)"
   ]
  },
  {
   "cell_type": "code",
   "execution_count": null,
   "id": "51b2df4e-c9f6-4d98-94e1-34acca47c572",
   "metadata": {},
   "outputs": [],
   "source": []
  }
 ],
 "metadata": {
  "kernelspec": {
   "display_name": "Python 3 (ipykernel)",
   "language": "python",
   "name": "python3"
  },
  "language_info": {
   "codemirror_mode": {
    "name": "ipython",
    "version": 3
   },
   "file_extension": ".py",
   "mimetype": "text/x-python",
   "name": "python",
   "nbconvert_exporter": "python",
   "pygments_lexer": "ipython3",
   "version": "3.11.8"
  }
 },
 "nbformat": 4,
 "nbformat_minor": 5
}
