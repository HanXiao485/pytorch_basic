{
 "cells": [
  {
   "cell_type": "markdown",
   "id": "3e83fb52-f031-4286-b517-0e51df99bfe3",
   "metadata": {},
   "source": [
    "# 20240417"
   ]
  },
  {
   "cell_type": "markdown",
   "id": "c1f80b4c-b2c3-440b-ada9-8dfeeac6d240",
   "metadata": {},
   "source": [
    "## .1 eq()比大小"
   ]
  },
  {
   "cell_type": "code",
   "execution_count": 1,
   "id": "874a3362-b6ce-42bd-9a48-9e3e5376e44a",
   "metadata": {},
   "outputs": [
    {
     "name": "stdout",
     "output_type": "stream",
     "text": [
      "tensor([[ True, False,  True],\n",
      "        [ True,  True,  True]])\n"
     ]
    }
   ],
   "source": [
    "import torch\n",
    "\n",
    "tensor1 = torch.tensor([[1, 2, 3],\n",
    "                        [4, 5, 6]])\n",
    "tensor2 = torch.tensor([[1, 0, 3],\n",
    "                        [4, 5, 6]])\n",
    "result = tensor1.eq(tensor2)\n",
    "print(result)"
   ]
  },
  {
   "cell_type": "code",
   "execution_count": 4,
   "id": "27494280-0123-47be-908c-4e0dd2b512b1",
   "metadata": {},
   "outputs": [
    {
     "name": "stdout",
     "output_type": "stream",
     "text": [
      "tensor([[False, False,  True],\n",
      "        [False, False, False]])\n"
     ]
    }
   ],
   "source": [
    "import torch\n",
    "\n",
    "tensor = torch.tensor([[1, 2, 3],\n",
    "                       [4, 5, 6]])\n",
    "scalar = 3\n",
    "result = tensor.eq(scalar)\n",
    "print(result)"
   ]
  },
  {
   "cell_type": "markdown",
   "id": "0abcf29b-678a-4eaf-a383-52afaa75e4c5",
   "metadata": {},
   "source": [
    "## 2 torch.max()"
   ]
  },
  {
   "cell_type": "markdown",
   "id": "0b7a68d1-c845-45f5-9445-9e0cd22d60cb",
   "metadata": {},
   "source": [
    "### 整个张量最大"
   ]
  },
  {
   "cell_type": "code",
   "execution_count": 5,
   "id": "23125acf-57da-4e97-8160-796d16951904",
   "metadata": {},
   "outputs": [
    {
     "name": "stdout",
     "output_type": "stream",
     "text": [
      "tensor(6)\n"
     ]
    }
   ],
   "source": [
    "import torch\n",
    "\n",
    "tensor = torch.tensor([[1, 2, 3],\n",
    "                       [4, 5, 6]])\n",
    "max_value = torch.max(tensor)\n",
    "print(max_value)  # 输出 6"
   ]
  },
  {
   "cell_type": "markdown",
   "id": "299b9e50-e1a0-4b1d-aca5-ec6062760245",
   "metadata": {},
   "source": [
    "### 沿某个维度最大"
   ]
  },
  {
   "cell_type": "code",
   "execution_count": 7,
   "id": "a3b00c10-e792-43d3-8ce2-7799f7ca38c5",
   "metadata": {},
   "outputs": [
    {
     "name": "stdout",
     "output_type": "stream",
     "text": [
      "tensor([3, 6])\n"
     ]
    }
   ],
   "source": [
    "import torch\n",
    "\n",
    "tensor = torch.tensor([[1, 2, 3],\n",
    "                       [4, 5, 6]])\n",
    "# 沿着第一个维度（行）找到最大值\n",
    "max_values, _ = torch.max(tensor, dim=1)\n",
    "print(max_values)  # 输出 tensor([3, 6])"
   ]
  },
  {
   "cell_type": "code",
   "execution_count": null,
   "id": "94fa7165-d2a0-4fcb-be6d-d5e2d42abcbd",
   "metadata": {},
   "outputs": [],
   "source": []
  },
  {
   "cell_type": "markdown",
   "id": "ce1d5cb2-7000-4411-8f46-692f9d65b853",
   "metadata": {},
   "source": [
    "## 3 .view_as()"
   ]
  },
  {
   "cell_type": "code",
   "execution_count": 9,
   "id": "79daaee4-7b84-4703-9784-528435331022",
   "metadata": {},
   "outputs": [
    {
     "name": "stdout",
     "output_type": "stream",
     "text": [
      "原始张量形状: torch.Size([2, 3])\n",
      "目标张量形状: torch.Size([3, 2])\n",
      "重塑后张量形状: torch.Size([3, 2])\n"
     ]
    }
   ],
   "source": [
    "import torch\n",
    "\n",
    "# 创建一个大小为 (2, 3) 的张量\n",
    "tensor = torch.tensor([[1, 2, 3],\n",
    "                        [4, 5, 6]])\n",
    "\n",
    "# 创建一个与上面张量形状相同的目标张量\n",
    "target_tensor = torch.zeros_like(tensor)\n",
    "\n",
    "# 创建一个目标张量\n",
    "target_tensor1 = torch.zeros(3,2)\n",
    "\n",
    "\n",
    "# 使用 view_as() 方法将其重塑为目标张量的形状\n",
    "reshaped_tensor = tensor.view_as(target_tensor1)\n",
    "\n",
    "print(\"原始张量形状:\", tensor.shape)\n",
    "print(\"目标张量形状:\", target_tensor1.shape)\n",
    "print(\"重塑后张量形状:\", reshaped_tensor.shape)"
   ]
  },
  {
   "cell_type": "code",
   "execution_count": null,
   "id": "1e9d0e97-3436-4895-be10-2559b65b27cd",
   "metadata": {},
   "outputs": [],
   "source": []
  }
 ],
 "metadata": {
  "kernelspec": {
   "display_name": "Python 3 (ipykernel)",
   "language": "python",
   "name": "python3"
  },
  "language_info": {
   "codemirror_mode": {
    "name": "ipython",
    "version": 3
   },
   "file_extension": ".py",
   "mimetype": "text/x-python",
   "name": "python",
   "nbconvert_exporter": "python",
   "pygments_lexer": "ipython3",
   "version": "3.11.8"
  }
 },
 "nbformat": 4,
 "nbformat_minor": 5
}
